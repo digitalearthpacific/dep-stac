{
 "cells": [
  {
   "cell_type": "code",
   "execution_count": null,
   "metadata": {},
   "outputs": [],
   "source": [
    "from odc.stac import load\n",
    "\n",
    "from dep_tools.azure import get_container_client, list_blob_container, download_blobs\n",
    "\n",
    "from get_insert_items import download_blob_items"
   ]
  },
  {
   "cell_type": "code",
   "execution_count": null,
   "metadata": {},
   "outputs": [],
   "source": [
    "client = get_container_client()\n",
    "docs = list_blob_container(client, \"dep_ls_geomad/0-0-2\")\n",
    "docs = list(docs)\n",
    "all_docs = [f\"https://deppcpublicstorage.blob.core.windows.net/output/{d}\" for d in docs]\n",
    "print(f\"Found {len(all_docs)} documents\")"
   ]
  },
  {
   "cell_type": "code",
   "execution_count": null,
   "metadata": {},
   "outputs": [],
   "source": [
    "items = download_blob_items(docs[0:10])\n",
    "items"
   ]
  },
  {
   "cell_type": "code",
   "execution_count": null,
   "metadata": {},
   "outputs": [],
   "source": [
    "data = load(items, chunks={})\n",
    "data"
   ]
  },
  {
   "cell_type": "code",
   "execution_count": null,
   "metadata": {},
   "outputs": [],
   "source": [
    "fiji_2023 = data.sel(time=\"2023\", method=\"nearest\")\n",
    "fiji_2023"
   ]
  },
  {
   "cell_type": "code",
   "execution_count": null,
   "metadata": {},
   "outputs": [],
   "source": [
    "fiji_2023.mangroves.odc.write_cog(\"mangroves.tif\")"
   ]
  }
 ],
 "metadata": {
  "kernelspec": {
   "display_name": "Python 3",
   "language": "python",
   "name": "python3"
  },
  "language_info": {
   "codemirror_mode": {
    "name": "ipython",
    "version": 3
   },
   "file_extension": ".py",
   "mimetype": "text/x-python",
   "name": "python",
   "nbconvert_exporter": "python",
   "pygments_lexer": "ipython3",
   "version": "3.11.6"
  },
  "orig_nbformat": 4
 },
 "nbformat": 4,
 "nbformat_minor": 2
}
