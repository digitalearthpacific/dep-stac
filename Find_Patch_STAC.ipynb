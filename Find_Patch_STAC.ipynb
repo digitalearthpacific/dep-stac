{
 "cells": [
  {
   "cell_type": "code",
   "execution_count": null,
   "metadata": {},
   "outputs": [],
   "source": [
    "from odc.stac import load\n",
    "from pystac import Item\n",
    "import json\n",
    "\n",
    "from dep_tools.azure import get_container_client, list_blob_container, download_blob"
   ]
  },
  {
   "cell_type": "code",
   "execution_count": null,
   "metadata": {},
   "outputs": [],
   "source": [
    "# Fix WOfS\n",
    "client = get_container_client()\n",
    "docs = list_blob_container(client, \"dep_ls_wofs/0-0-3/\")"
   ]
  },
  {
   "cell_type": "code",
   "execution_count": null,
   "metadata": {},
   "outputs": [],
   "source": [
    "# Fix Mangroves\n",
    "client = get_container_client()\n",
    "docs = list_blob_container(client, \"dep_s2_mangroves/0-0-3/\")"
   ]
  },
  {
   "cell_type": "code",
   "execution_count": null,
   "metadata": {},
   "outputs": [],
   "source": [
    "for doc in docs:\n",
    "    print(doc)\n",
    "    item = Item.from_dict(json.loads(download_blob(client, doc)))\n",
    "    for asset in item.assets.values():\n",
    "        asset.href = asset.href.replace(\"https:/d\", \"https://d\")\n",
    "    blob = client.get_blob_client(doc)\n",
    "    blob.upload_blob(json.dumps(item.to_dict(), indent=2), overwrite=True)"
   ]
  },
  {
   "cell_type": "code",
   "execution_count": null,
   "metadata": {},
   "outputs": [],
   "source": [
    "item = Item.from_file(\"https://deppcpublicstorage.blob.core.windows.net/output/dep_s2_mangroves/0-0-3/WF/003/2022/dep_s2_mangroves_WF_003_2022.stac-item.json\")"
   ]
  },
  {
   "cell_type": "code",
   "execution_count": null,
   "metadata": {},
   "outputs": [],
   "source": [
    "data = load([item])"
   ]
  },
  {
   "cell_type": "code",
   "execution_count": null,
   "metadata": {},
   "outputs": [],
   "source": [
    "data"
   ]
  },
  {
   "cell_type": "code",
   "execution_count": null,
   "metadata": {},
   "outputs": [],
   "source": [
    "data.mangroves.isel(time=0).plot.imshow(size=10)"
   ]
  }
 ],
 "metadata": {
  "kernelspec": {
   "display_name": "Python 3",
   "language": "python",
   "name": "python3"
  },
  "language_info": {
   "codemirror_mode": {
    "name": "ipython",
    "version": 3
   },
   "file_extension": ".py",
   "mimetype": "text/x-python",
   "name": "python",
   "nbconvert_exporter": "python",
   "pygments_lexer": "ipython3",
   "version": "3.11.5"
  },
  "orig_nbformat": 4
 },
 "nbformat": 4,
 "nbformat_minor": 2
}
